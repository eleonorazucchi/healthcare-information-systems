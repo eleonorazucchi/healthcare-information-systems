{
 "cells": [
  {
   "attachments": {},
   "cell_type": "markdown",
   "metadata": {},
   "source": [
    "EXAM: HEALTHCARE INFORMATION SYSTEM \\\n",
    "NAME: Eleonora Zucchi \\\n",
    "\\\n",
    "I. ETL Exercise"
   ]
  },
  {
   "cell_type": "code",
   "execution_count": 2,
   "metadata": {},
   "outputs": [],
   "source": [
    "import pandas as pd\n",
    "import os.path\n",
    "import psycopg2\n",
    "import numpy as np\n",
    "from  datetime import datetime"
   ]
  },
  {
   "attachments": {},
   "cell_type": "markdown",
   "metadata": {},
   "source": [
    "True. Check job parmeters \n",
    "\n",
    "Parameters:\n",
    "  - partecipant\n",
    "  - day\n",
    "  - group minutes"
   ]
  },
  {
   "cell_type": "code",
   "execution_count": 3,
   "metadata": {},
   "outputs": [
    {
     "name": "stdout",
     "output_type": "stream",
     "text": [
      "   Participant ID  Age  Height  Gender A or B person Max heart rate  \\\n",
      "0             p01   48     195    male             A            182   \n",
      "1             p02   60     180    male             A            169   \n",
      "2             p03   25     184    male             A            157   \n",
      "3             p04   26     163  female             A            195   \n",
      "4             p05   35     176    male             A            184   \n",
      "5             p06   42     179   male              B            181   \n",
      "6             p07   26     177    male             B            NaN   \n",
      "7             p08   27     186    male             B            200   \n",
      "8             p09   26     180    male             B            183   \n",
      "9             p10   38     179  female             B            197   \n",
      "10            p11   25     171  female             A            203   \n",
      "11            p12   27     178    male             A                  \n",
      "12            p13   31     183    male             A            186   \n",
      "13            p14   45     181    male             A            190   \n",
      "14            p15   54     180    male             A            NaN   \n",
      "15            p16   23     182    male             B            199   \n",
      "\n",
      "                   Date  Minutes  Seconds  Stride walk  Stride run  \n",
      "0   2019-11-26 00:00:00       29       33        80.90       102.9  \n",
      "1   2019-12-15 00:00:00       23       51        74.70        92.4  \n",
      "2   2019-12-30 00:00:00       33       22          NaN         NaN  \n",
      "3   2019-11-19 00:00:00       22       13        67.30       110.2  \n",
      "4   2019-12-23 00:00:00       32       40        73.00        94.3  \n",
      "5   2019-12-01 00:00:00       23       19        73.04        97.6  \n",
      "6   2019-11-19 00:00:00       19       40        73.50       119.5  \n",
      "7   2019-11-28 00:00:00       18       47        77.20       103.6  \n",
      "8   2020-01-07 00:00:00       35        6        74.70       109.9  \n",
      "9   2019-12-08 00:00:00       28       10        73.09       102.3  \n",
      "10             november       26       15        70.60        98.9  \n",
      "11  2019-12-17 00:00:00       30       22          NaN         NaN  \n",
      "12  2019-11-11 00:00:00       30       16        75.90       105.6  \n",
      "13             november       26       15        75.10        11.3  \n",
      "14              injured  injured  injured        74.70        88.1  \n",
      "15  2020-11-16 00:00:00       47       28        75.50       128.8  \n"
     ]
    }
   ],
   "source": [
    "file_path = '/Users/eleonorazucchi/Desktop/HIS/pmdata/participant-overview.xlsx'\n",
    "\n",
    "participants = pd.read_excel(file_path, header=1) \n",
    "print(participants)"
   ]
  },
  {
   "cell_type": "code",
   "execution_count": 4,
   "metadata": {},
   "outputs": [
    {
     "name": "stdout",
     "output_type": "stream",
     "text": [
      "p01\n"
     ]
    }
   ],
   "source": [
    "participants = participants['Participant ID'][0]\n",
    "print(participants)"
   ]
  },
  {
   "cell_type": "code",
   "execution_count": 5,
   "metadata": {},
   "outputs": [],
   "source": [
    "group_minutes = 5"
   ]
  },
  {
   "cell_type": "code",
   "execution_count": 6,
   "metadata": {},
   "outputs": [],
   "source": [
    "day = '2019-11-01'"
   ]
  },
  {
   "attachments": {},
   "cell_type": "markdown",
   "metadata": {},
   "source": [
    "2. Tables preparation\n",
    "\n",
    "Function that creates the database table group_{group_minutes}_values"
   ]
  },
  {
   "cell_type": "code",
   "execution_count": 7,
   "metadata": {},
   "outputs": [],
   "source": [
    "def create_table(group_minutes: int):\n",
    "    command = \"\"\"\n",
    "            CREATE TABLE IF NOT EXISTS public.group_{}_values (\n",
    "                partecipant character varying(5),\n",
    "                VT timestamp without time zone,\n",
    "                calories bigint,\n",
    "                bpm bigint,\n",
    "                walking boolean,\n",
    "                swimming boolean,\n",
    "                running boolean,\n",
    "                cycling boolean,\n",
    "                treadmill boolean,\n",
    "                PRIMARY KEY (partecipant, vt)\n",
    "            )\n",
    "            \"\"\".format(str(group_minutes))\n",
    "\n",
    "    connection = None\n",
    "    try:\n",
    "        # connect to the PostgreSQL server\n",
    "        connection = psycopg2.connect(\n",
    "            database='postgres', \n",
    "            user='postgres', \n",
    "            password='pwd'\n",
    "        )\n",
    "        cur = connection.cursor()\n",
    "\n",
    "        cur.execute(command)\n",
    "        cur.close()\n",
    "        \n",
    "        # commit the changes\n",
    "        connection.commit()\n",
    "    except (Exception, psycopg2.DatabaseError) as error:\n",
    "        print(error)\n",
    "\n",
    "    finally:\n",
    "        if connection is not None:\n",
    "            connection.close()\n",
    "            \n",
    "    return\n",
    "\n",
    "create_table(group_minutes=group_minutes)"
   ]
  },
  {
   "attachments": {},
   "cell_type": "markdown",
   "metadata": {},
   "source": [
    "3. Rows allocation"
   ]
  },
  {
   "cell_type": "code",
   "execution_count": 8,
   "metadata": {},
   "outputs": [],
   "source": [
    "\n",
    "def load_data(participants: list, table_name: str, index: str):\n",
    "    dfs = []\n",
    "\n",
    "    #for participant in participants:\n",
    "\n",
    "    path = os.path.join('pmdata', participants, 'fitbit', table_name + '.json')\n",
    "\n",
    "    df = pd.read_json(path)\n",
    "    df = df.set_index(index)\n",
    "    df['participant'] = participants\n",
    "    dfs.append(df) \n",
    "\n",
    "    dataframe = pd.concat(dfs)\n",
    "    return dataframe\n"
   ]
  },
  {
   "cell_type": "code",
   "execution_count": 9,
   "metadata": {},
   "outputs": [
    {
     "name": "stdout",
     "output_type": "stream",
     "text": [
      "                     value participant\n",
      "dateTime                              \n",
      "2019-11-01 00:00:00   1.39         p01\n",
      "2019-11-01 00:01:00   1.39         p01\n",
      "2019-11-01 00:02:00   1.39         p01\n",
      "2019-11-01 00:03:00   1.39         p01\n",
      "2019-11-01 00:04:00   1.39         p01\n",
      "...                    ...         ...\n",
      "2020-03-31 23:55:00   1.38         p01\n",
      "2020-03-31 23:56:00   1.38         p01\n",
      "2020-03-31 23:57:00   1.38         p01\n",
      "2020-03-31 23:58:00   1.52         p01\n",
      "2020-03-31 23:59:00   3.31         p01\n",
      "\n",
      "[218880 rows x 2 columns]\n"
     ]
    }
   ],
   "source": [
    "calories = load_data(\n",
    "    participants=participants, \n",
    "    table_name='calories', \n",
    "    index='dateTime'\n",
    ")\n",
    "\n",
    "print(calories)"
   ]
  },
  {
   "cell_type": "code",
   "execution_count": 10,
   "metadata": {},
   "outputs": [
    {
     "name": "stdout",
     "output_type": "stream",
     "text": [
      "                     value participant\n",
      "dateTime                              \n",
      "2019-11-01 00:00:05     54         p01\n",
      "2019-11-01 00:00:10     52         p01\n",
      "2019-11-01 00:00:20     51         p01\n",
      "2019-11-01 00:00:25     52         p01\n",
      "2019-11-01 00:00:30     51         p01\n",
      "...                    ...         ...\n",
      "2020-03-31 23:59:18     55         p01\n",
      "2020-03-31 23:59:23     54         p01\n",
      "2020-03-31 23:59:33     56         p01\n",
      "2020-03-31 23:59:48     56         p01\n",
      "2020-03-31 23:59:58     55         p01\n",
      "\n",
      "[1573165 rows x 2 columns]\n"
     ]
    }
   ],
   "source": [
    "bpm = load_data(participants=participants, table_name='heart_rate', index='dateTime')\n",
    "bpm[\"value\"] = bpm[\"value\"].apply(lambda x: x['bpm']) \n",
    "\n",
    "print(bpm)"
   ]
  },
  {
   "cell_type": "code",
   "execution_count": 11,
   "metadata": {},
   "outputs": [
    {
     "name": "stdout",
     "output_type": "stream",
     "text": [
      "                    participant activityName  activeDuration\n",
      "startTime                                                   \n",
      "2019-11-01 14:56:32         p01         Walk         1331000\n",
      "2019-11-01 19:03:11         p01         Walk         2202000\n",
      "2019-11-02 13:26:38         p01         Walk         2458000\n",
      "2019-11-04 21:22:08         p01         Walk         1024000\n",
      "2019-11-05 19:27:25         p01         Walk          973000\n",
      "...                         ...          ...             ...\n",
      "2020-03-27 13:07:53         p01         Walk         1076000\n",
      "2020-03-27 16:22:27         p01         Walk         2918000\n",
      "2020-03-28 09:58:08         p01         Walk         5581000\n",
      "2020-03-29 07:42:53         p01         Walk         1076000\n",
      "2020-03-31 16:51:36         p01         Walk         2764000\n",
      "\n",
      "[190 rows x 3 columns]\n"
     ]
    }
   ],
   "source": [
    "exercises = load_data(\n",
    "    participants=participants, \n",
    "    table_name='exercise', \n",
    "    index='startTime'\n",
    ")\n",
    "\n",
    "exercises.index = pd.to_datetime(exercises.index, infer_datetime_format=True)\n",
    "exercises = exercises[['participant', 'activityName', 'activeDuration']]\n",
    "\n",
    "print(exercises)"
   ]
  },
  {
   "attachments": {},
   "cell_type": "markdown",
   "metadata": {},
   "source": [
    "4. - Calories aggregate & insert\n",
    "   -  BPM aggregate & insert\n",
    "   -  Exercises transform & insert"
   ]
  },
  {
   "attachments": {},
   "cell_type": "markdown",
   "metadata": {},
   "source": [
    "Function that normalizes the data setting a common granularity and ending date. \n",
    "Values are summed according to the choosen timestamp, \n",
    "missing values are copied from the previous row"
   ]
  },
  {
   "cell_type": "code",
   "execution_count": 12,
   "metadata": {},
   "outputs": [],
   "source": [
    "def aggregate_sum(dataframe, group_minutes: int, day: str):\n",
    "\n",
    "    freq = str(group_minutes) + 'T'\n",
    "\n",
    "    date = pd.to_datetime(day)\n",
    "    new_date = pd.to_datetime(date + pd.Timedelta('1 day'))\n",
    "    \n",
    "    dataframe = dataframe.iloc[dataframe.index >= date]\n",
    "    dataframe = dataframe.iloc[dataframe.index < new_date]\n",
    "\n",
    "    dataframe.index = dataframe.index.round(freq=freq)\n",
    "    dataframe = dataframe.groupby(by=dataframe.index, as_index=1).agg({'value': 'sum', 'participant': 'last'})\n",
    "    dataframe = dataframe.resample(freq).ffill()\n",
    "  \n",
    "    return dataframe"
   ]
  },
  {
   "attachments": {},
   "cell_type": "markdown",
   "metadata": {},
   "source": [
    "Function that normalizes the data setting a common granularity and ending date. \n",
    "Values are averaged according to the choosen timestamp, \n",
    "missing values are copied from the previous row"
   ]
  },
  {
   "cell_type": "code",
   "execution_count": 13,
   "metadata": {},
   "outputs": [],
   "source": [
    "def aggregate_mean(dataframe, group_minutes: int, day: str):\n",
    "\n",
    "    freq = str(group_minutes) + 'T'\n",
    "\n",
    "    date = pd.to_datetime(day)\n",
    "    new_date = pd.to_datetime(date + pd.Timedelta('1 day'))\n",
    "\n",
    "    dataframe = dataframe.iloc[dataframe.index >= date]\n",
    "\n",
    "    dataframe = dataframe.iloc[dataframe.index < new_date]\n",
    "\n",
    "    dataframe.index = dataframe.index.round(freq=freq)\n",
    "    dataframe = dataframe.groupby(by=dataframe.index, as_index=1).agg({'value': 'mean', 'participant': 'last'})\n",
    "    dataframe = dataframe.resample(freq).ffill()\n",
    "       \n",
    "    return dataframe  "
   ]
  },
  {
   "cell_type": "code",
   "execution_count": 14,
   "metadata": {},
   "outputs": [],
   "source": [
    "def aggregate_copy(dataframe, group_minutes: int, day: str):\n",
    "\n",
    "    freq = str(group_minutes) + 'T'\n",
    "            \n",
    "    date = pd.to_datetime(day)\n",
    "    new_date = pd.to_datetime(date + pd.Timedelta('1 day'))\n",
    "\n",
    "    dataframe = dataframe.iloc[dataframe.index >= date]\n",
    "    dataframe = dataframe.iloc[dataframe.index < new_date]\n",
    "\n",
    "    dataframe.index = dataframe.index.round(freq=freq)\n",
    "    dataframe = dataframe.groupby(by=dataframe.index, as_index=1).agg({'activeDuration': 'last','activityName': 'last', 'participant': 'last'})\n",
    "    #dataframe.index = dataframe.index.resample(freq).ffill() \n",
    "        \n",
    "    return dataframe"
   ]
  },
  {
   "cell_type": "code",
   "execution_count": 15,
   "metadata": {},
   "outputs": [
    {
     "name": "stdout",
     "output_type": "stream",
     "text": [
      "                     value participant\n",
      "dateTime                              \n",
      "2019-11-01 00:00:00   4.17         p01\n",
      "2019-11-01 00:05:00   6.95         p01\n",
      "2019-11-01 00:10:00   6.95         p01\n",
      "2019-11-01 00:15:00   6.95         p01\n",
      "2019-11-01 00:20:00   6.95         p01\n",
      "...                    ...         ...\n",
      "2019-11-01 23:40:00   6.95         p01\n",
      "2019-11-01 23:45:00  11.26         p01\n",
      "2019-11-01 23:50:00  24.87         p01\n",
      "2019-11-01 23:55:00  22.52         p01\n",
      "2019-11-02 00:00:00   2.92         p01\n",
      "\n",
      "[289 rows x 2 columns]\n"
     ]
    }
   ],
   "source": [
    "calories_aggregated = aggregate_sum(\n",
    "    dataframe=calories, \n",
    "    group_minutes=group_minutes, \n",
    "    day=day\n",
    ")\n",
    "\n",
    "print(calories_aggregated)"
   ]
  },
  {
   "cell_type": "code",
   "execution_count": 16,
   "metadata": {},
   "outputs": [
    {
     "name": "stdout",
     "output_type": "stream",
     "text": [
      "                         value participant\n",
      "dateTime                                  \n",
      "2019-11-01 00:00:00  53.000000         p01\n",
      "2019-11-01 00:05:00  53.488889         p01\n",
      "2019-11-01 00:10:00  53.277778         p01\n",
      "2019-11-01 00:15:00  54.171429         p01\n",
      "2019-11-01 00:20:00  54.000000         p01\n",
      "...                        ...         ...\n",
      "2019-11-01 23:40:00  55.850000         p01\n",
      "2019-11-01 23:45:00  50.611111         p01\n",
      "2019-11-01 23:50:00  50.131579         p01\n",
      "2019-11-01 23:55:00  50.194444         p01\n",
      "2019-11-02 00:00:00  51.636364         p01\n",
      "\n",
      "[289 rows x 2 columns]\n"
     ]
    }
   ],
   "source": [
    "bpm_aggregated = aggregate_mean(\n",
    "    dataframe=bpm, \n",
    "    group_minutes=group_minutes, \n",
    "    day=day\n",
    ")\n",
    "\n",
    "print(bpm_aggregated)"
   ]
  },
  {
   "cell_type": "code",
   "execution_count": 17,
   "metadata": {},
   "outputs": [
    {
     "name": "stdout",
     "output_type": "stream",
     "text": [
      "                     activeDuration activityName participant\n",
      "startTime                                                   \n",
      "2019-11-01 14:55:00         1331000         Walk         p01\n",
      "2019-11-01 19:05:00         2202000         Walk         p01\n"
     ]
    }
   ],
   "source": [
    "exercise_aggregated = aggregate_copy(\n",
    "    dataframe=exercises, \n",
    "    group_minutes=group_minutes,\n",
    "    day=day\n",
    ")\n",
    "\n",
    "print(exercise_aggregated)"
   ]
  },
  {
   "cell_type": "code",
   "execution_count": 18,
   "metadata": {},
   "outputs": [
    {
     "name": "stdout",
     "output_type": "stream",
     "text": [
      "                    activityName participant             endTime\n",
      "startTime                                                       \n",
      "2019-11-01 14:55:00         Walk         p01 2019-11-01 15:17:11\n",
      "2019-11-01 19:05:00         Walk         p01 2019-11-01 19:41:42\n"
     ]
    }
   ],
   "source": [
    "exercise_aggregated['activeDuration'] = pd.to_timedelta(exercise_aggregated['activeDuration'], unit='ms')\n",
    "\n",
    "# Add duration to start_time to get end_time\n",
    "exercise_aggregated['endTime'] = exercise_aggregated.index + exercise_aggregated['activeDuration']\n",
    "exercise_aggregated = exercise_aggregated.drop(columns='activeDuration')\n",
    "\n",
    "print(exercise_aggregated)"
   ]
  },
  {
   "cell_type": "code",
   "execution_count": 19,
   "metadata": {},
   "outputs": [
    {
     "name": "stdout",
     "output_type": "stream",
     "text": [
      "               dateTime  value_x participant_x    value_y activityName endTime\n",
      "0   2019-11-01 00:00:00     4.17           p01  53.000000          NaN     NaT\n",
      "1   2019-11-01 00:05:00     6.95           p01  53.488889          NaN     NaT\n",
      "2   2019-11-01 00:10:00     6.95           p01  53.277778          NaN     NaT\n",
      "3   2019-11-01 00:15:00     6.95           p01  54.171429          NaN     NaT\n",
      "4   2019-11-01 00:20:00     6.95           p01  54.000000          NaN     NaT\n",
      "..                  ...      ...           ...        ...          ...     ...\n",
      "284 2019-11-01 23:40:00     6.95           p01  55.850000          NaN     NaT\n",
      "285 2019-11-01 23:45:00    11.26           p01  50.611111          NaN     NaT\n",
      "286 2019-11-01 23:50:00    24.87           p01  50.131579          NaN     NaT\n",
      "287 2019-11-01 23:55:00    22.52           p01  50.194444          NaN     NaT\n",
      "288 2019-11-02 00:00:00     2.92           p01  51.636364          NaN     NaT\n",
      "\n",
      "[289 rows x 6 columns]\n"
     ]
    }
   ],
   "source": [
    "result = pd.merge_asof(calories_aggregated, bpm_aggregated, on='dateTime')\n",
    "result = pd.merge(result, exercise_aggregated, left_on='dateTime', right_on='startTime', how=\"outer\")\n",
    "result = result[['dateTime','value_x', 'participant_x', 'value_y', 'activityName', 'endTime']]\n",
    "\n",
    "print(result)"
   ]
  },
  {
   "attachments": {},
   "cell_type": "markdown",
   "metadata": {},
   "source": [
    "Loop that iterates each rows, copying the previous row, wheter there is an activity, if its timestamp (dateTime) is less than the endTime column."
   ]
  },
  {
   "cell_type": "code",
   "execution_count": 20,
   "metadata": {},
   "outputs": [],
   "source": [
    "for index, row in result.iterrows():\n",
    "    if(index > 0):\n",
    "        if (result.loc[index-1, 'endTime'] >= result.loc[index, 'dateTime']):\n",
    "            result.loc[index, 'endTime']  = result.loc[index-1, 'endTime'] \n",
    "            result.loc[index, 'activityName'] = result.loc[index-1, 'activityName']\n"
   ]
  },
  {
   "cell_type": "code",
   "execution_count": 23,
   "metadata": {},
   "outputs": [
    {
     "name": "stdout",
     "output_type": "stream",
     "text": [
      "               dateTime  value_x participant_x    value_y activityName  \\\n",
      "0   2019-11-01 00:00:00     4.17           p01  53.000000          NaN   \n",
      "1   2019-11-01 00:05:00     6.95           p01  53.488889          NaN   \n",
      "2   2019-11-01 00:10:00     6.95           p01  53.277778          NaN   \n",
      "3   2019-11-01 00:15:00     6.95           p01  54.171429          NaN   \n",
      "4   2019-11-01 00:20:00     6.95           p01  54.000000          NaN   \n",
      "..                  ...      ...           ...        ...          ...   \n",
      "284 2019-11-01 23:40:00     6.95           p01  55.850000          NaN   \n",
      "285 2019-11-01 23:45:00    11.26           p01  50.611111          NaN   \n",
      "286 2019-11-01 23:50:00    24.87           p01  50.131579          NaN   \n",
      "287 2019-11-01 23:55:00    22.52           p01  50.194444          NaN   \n",
      "288 2019-11-02 00:00:00     2.92           p01  51.636364          NaN   \n",
      "\n",
      "    endTime  walking  swimming  running  cycling  treadmill  \n",
      "0       NaT    False     False    False    False      False  \n",
      "1       NaT    False     False    False    False      False  \n",
      "2       NaT    False     False    False    False      False  \n",
      "3       NaT    False     False    False    False      False  \n",
      "4       NaT    False     False    False    False      False  \n",
      "..      ...      ...       ...      ...      ...        ...  \n",
      "284     NaT    False     False    False    False      False  \n",
      "285     NaT    False     False    False    False      False  \n",
      "286     NaT    False     False    False    False      False  \n",
      "287     NaT    False     False    False    False      False  \n",
      "288     NaT    False     False    False    False      False  \n",
      "\n",
      "[289 rows x 11 columns]\n"
     ]
    }
   ],
   "source": [
    "print(result)"
   ]
  },
  {
   "cell_type": "code",
   "execution_count": 21,
   "metadata": {},
   "outputs": [
    {
     "name": "stdout",
     "output_type": "stream",
     "text": [
      "               dateTime  value_x participant_x    value_y activityName  \\\n",
      "0   2019-11-01 00:00:00     4.17           p01  53.000000          NaN   \n",
      "1   2019-11-01 00:05:00     6.95           p01  53.488889          NaN   \n",
      "2   2019-11-01 00:10:00     6.95           p01  53.277778          NaN   \n",
      "3   2019-11-01 00:15:00     6.95           p01  54.171429          NaN   \n",
      "4   2019-11-01 00:20:00     6.95           p01  54.000000          NaN   \n",
      "..                  ...      ...           ...        ...          ...   \n",
      "284 2019-11-01 23:40:00     6.95           p01  55.850000          NaN   \n",
      "285 2019-11-01 23:45:00    11.26           p01  50.611111          NaN   \n",
      "286 2019-11-01 23:50:00    24.87           p01  50.131579          NaN   \n",
      "287 2019-11-01 23:55:00    22.52           p01  50.194444          NaN   \n",
      "288 2019-11-02 00:00:00     2.92           p01  51.636364          NaN   \n",
      "\n",
      "    endTime  walking  swimming  running  cycling  treadmill  \n",
      "0       NaT    False     False    False    False      False  \n",
      "1       NaT    False     False    False    False      False  \n",
      "2       NaT    False     False    False    False      False  \n",
      "3       NaT    False     False    False    False      False  \n",
      "4       NaT    False     False    False    False      False  \n",
      "..      ...      ...       ...      ...      ...        ...  \n",
      "284     NaT    False     False    False    False      False  \n",
      "285     NaT    False     False    False    False      False  \n",
      "286     NaT    False     False    False    False      False  \n",
      "287     NaT    False     False    False    False      False  \n",
      "288     NaT    False     False    False    False      False  \n",
      "\n",
      "[289 rows x 11 columns]\n"
     ]
    }
   ],
   "source": [
    "result['walking'] = result.apply(lambda row: True if (row['activityName'] == 'Walk') else False, axis=1)\n",
    "\n",
    "result['swimming'] = result.apply(lambda row: True if (row['activityName'] == 'Swim') else False, axis=1)\n",
    "\n",
    "result['running'] = result.apply(lambda row: True if (row['activityName'] == 'Run') else False, axis=1)\n",
    "\n",
    "result['cycling'] = result.apply(lambda row: True if (row['activityName'] == 'Outdoor Bike') else False, axis=1)\n",
    "\n",
    "result['treadmill'] = result.apply(lambda row: True if (row['activityName'] == 'Treadmill') else False, axis=1)\n",
    "\n",
    "\n",
    "print(result)"
   ]
  },
  {
   "cell_type": "code",
   "execution_count": 22,
   "metadata": {},
   "outputs": [
    {
     "name": "stdout",
     "output_type": "stream",
     "text": [
      "duplicate key value violates unique constraint \"group_5_values_pkey\"\n",
      "DETAIL:  Key (partecipant, vt)=(1, 2019-11-01 00:00:00) already exists.\n",
      "\n"
     ]
    }
   ],
   "source": [
    "def insert_table(dataframe, group_minutes: int):\n",
    "    command = \"\"\"\n",
    "            INSERT INTO public.group_{}_values (\n",
    "                partecipant,\n",
    "                VT,\n",
    "                calories,\n",
    "                bpm,\n",
    "                walking,\n",
    "                swimming,\n",
    "                running,\n",
    "                cycling,\n",
    "                treadmill\n",
    "            ) VALUES (%s, %s, %s, %s, %s, %s, %s, %s, %s)\n",
    "            \"\"\".format(str(group_minutes))\n",
    "\n",
    "    connection = None\n",
    "    try:\n",
    "        # connect to the PostgreSQL server\n",
    "        connection = psycopg2.connect(\n",
    "            database='postgres', \n",
    "            user='postgres', \n",
    "            password='pwd'\n",
    "        )\n",
    "\n",
    "        cur = connection.cursor()\n",
    "\n",
    "        for index, row in dataframe.iterrows():\n",
    "\n",
    "            participant = dataframe.loc[index, 'participant_x']\n",
    "            participant = int(participant[1:])\n",
    "\n",
    "            date = pd.to_datetime(dataframe.loc[index, 'dateTime'])\n",
    "            calories = int(dataframe.loc[index, 'value_x'])\n",
    "            bpm = int(dataframe.loc[index, 'value_y'])\n",
    "            \n",
    "\n",
    "            cur.execute(command, (\n",
    "                participant, \n",
    "                date, \n",
    "                calories,\n",
    "                bpm,\n",
    "                bool(dataframe.loc[index, 'walking']),\n",
    "                bool(dataframe.loc[index, 'swimming']),\n",
    "                bool(dataframe.loc[index, 'cycling']),  \n",
    "                bool(dataframe.loc[index, 'running']),\n",
    "                bool(dataframe.loc[index, 'treadmill'])                \n",
    "                )\n",
    "            )\n",
    "            \n",
    "        cur.close()\n",
    "        \n",
    "        # commit the changes\n",
    "        connection.commit()\n",
    "    except (Exception, psycopg2.DatabaseError) as error:\n",
    "        print(error)\n",
    "\n",
    "    finally:\n",
    "        if connection is not None:\n",
    "            connection.close()\n",
    "            \n",
    "    return\n",
    "\n",
    "insert_table(dataframe=result, group_minutes=group_minutes)"
   ]
  }
 ],
 "metadata": {
  "kernelspec": {
   "display_name": "Python 3",
   "language": "python",
   "name": "python3"
  },
  "language_info": {
   "codemirror_mode": {
    "name": "ipython",
    "version": 3
   },
   "file_extension": ".py",
   "mimetype": "text/x-python",
   "name": "python",
   "nbconvert_exporter": "python",
   "pygments_lexer": "ipython3",
   "version": "3.10.4"
  },
  "orig_nbformat": 4,
  "vscode": {
   "interpreter": {
    "hash": "aee8b7b246df8f9039afb4144a1f6fd8d2ca17a180786b69acc140d282b71a49"
   }
  }
 },
 "nbformat": 4,
 "nbformat_minor": 2
}
